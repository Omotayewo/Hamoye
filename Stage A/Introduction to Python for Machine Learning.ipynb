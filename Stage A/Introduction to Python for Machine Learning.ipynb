{
 "cells": [
  {
   "cell_type": "code",
   "execution_count": 1,
   "id": "cd0b3eb3",
   "metadata": {},
   "outputs": [],
   "source": [
    "import numpy as np\n",
    "import pandas as pd\n",
    "import matplotlib.pyplot as plt"
   ]
  },
  {
   "cell_type": "code",
   "execution_count": 3,
   "id": "15a2de89",
   "metadata": {},
   "outputs": [],
   "source": [
    "df = pd.read_csv('Data/FoodBalanceSheets_E_Africa_NOFLAG.csv', encoding='latin-1')"
   ]
  },
  {
   "cell_type": "code",
   "execution_count": 4,
   "id": "9534b921",
   "metadata": {},
   "outputs": [
    {
     "data": {
      "text/html": [
       "<div>\n",
       "<style scoped>\n",
       "    .dataframe tbody tr th:only-of-type {\n",
       "        vertical-align: middle;\n",
       "    }\n",
       "\n",
       "    .dataframe tbody tr th {\n",
       "        vertical-align: top;\n",
       "    }\n",
       "\n",
       "    .dataframe thead th {\n",
       "        text-align: right;\n",
       "    }\n",
       "</style>\n",
       "<table border=\"1\" class=\"dataframe\">\n",
       "  <thead>\n",
       "    <tr style=\"text-align: right;\">\n",
       "      <th></th>\n",
       "      <th>Area Code</th>\n",
       "      <th>Area</th>\n",
       "      <th>Item Code</th>\n",
       "      <th>Item</th>\n",
       "      <th>Element Code</th>\n",
       "      <th>Element</th>\n",
       "      <th>Unit</th>\n",
       "      <th>Y2014</th>\n",
       "      <th>Y2015</th>\n",
       "      <th>Y2016</th>\n",
       "      <th>Y2017</th>\n",
       "      <th>Y2018</th>\n",
       "    </tr>\n",
       "  </thead>\n",
       "  <tbody>\n",
       "    <tr>\n",
       "      <th>0</th>\n",
       "      <td>4</td>\n",
       "      <td>Algeria</td>\n",
       "      <td>2501</td>\n",
       "      <td>Population</td>\n",
       "      <td>511</td>\n",
       "      <td>Total Population - Both sexes</td>\n",
       "      <td>1000 persons</td>\n",
       "      <td>38924.00</td>\n",
       "      <td>39728.00</td>\n",
       "      <td>40551.00</td>\n",
       "      <td>41389.00</td>\n",
       "      <td>42228.00</td>\n",
       "    </tr>\n",
       "    <tr>\n",
       "      <th>1</th>\n",
       "      <td>4</td>\n",
       "      <td>Algeria</td>\n",
       "      <td>2501</td>\n",
       "      <td>Population</td>\n",
       "      <td>5301</td>\n",
       "      <td>Domestic supply quantity</td>\n",
       "      <td>1000 tonnes</td>\n",
       "      <td>0.00</td>\n",
       "      <td>0.00</td>\n",
       "      <td>0.00</td>\n",
       "      <td>0.00</td>\n",
       "      <td>0.00</td>\n",
       "    </tr>\n",
       "    <tr>\n",
       "      <th>2</th>\n",
       "      <td>4</td>\n",
       "      <td>Algeria</td>\n",
       "      <td>2901</td>\n",
       "      <td>Grand Total</td>\n",
       "      <td>664</td>\n",
       "      <td>Food supply (kcal/capita/day)</td>\n",
       "      <td>kcal/capita/day</td>\n",
       "      <td>3377.00</td>\n",
       "      <td>3379.00</td>\n",
       "      <td>3372.00</td>\n",
       "      <td>3341.00</td>\n",
       "      <td>3322.00</td>\n",
       "    </tr>\n",
       "    <tr>\n",
       "      <th>3</th>\n",
       "      <td>4</td>\n",
       "      <td>Algeria</td>\n",
       "      <td>2901</td>\n",
       "      <td>Grand Total</td>\n",
       "      <td>674</td>\n",
       "      <td>Protein supply quantity (g/capita/day)</td>\n",
       "      <td>g/capita/day</td>\n",
       "      <td>94.90</td>\n",
       "      <td>94.35</td>\n",
       "      <td>94.72</td>\n",
       "      <td>92.82</td>\n",
       "      <td>91.83</td>\n",
       "    </tr>\n",
       "    <tr>\n",
       "      <th>4</th>\n",
       "      <td>4</td>\n",
       "      <td>Algeria</td>\n",
       "      <td>2901</td>\n",
       "      <td>Grand Total</td>\n",
       "      <td>684</td>\n",
       "      <td>Fat supply quantity (g/capita/day)</td>\n",
       "      <td>g/capita/day</td>\n",
       "      <td>80.06</td>\n",
       "      <td>79.36</td>\n",
       "      <td>77.40</td>\n",
       "      <td>80.19</td>\n",
       "      <td>77.28</td>\n",
       "    </tr>\n",
       "    <tr>\n",
       "      <th>...</th>\n",
       "      <td>...</td>\n",
       "      <td>...</td>\n",
       "      <td>...</td>\n",
       "      <td>...</td>\n",
       "      <td>...</td>\n",
       "      <td>...</td>\n",
       "      <td>...</td>\n",
       "      <td>...</td>\n",
       "      <td>...</td>\n",
       "      <td>...</td>\n",
       "      <td>...</td>\n",
       "      <td>...</td>\n",
       "    </tr>\n",
       "    <tr>\n",
       "      <th>60938</th>\n",
       "      <td>181</td>\n",
       "      <td>Zimbabwe</td>\n",
       "      <td>2899</td>\n",
       "      <td>Miscellaneous</td>\n",
       "      <td>5142</td>\n",
       "      <td>Food</td>\n",
       "      <td>1000 tonnes</td>\n",
       "      <td>42.00</td>\n",
       "      <td>46.00</td>\n",
       "      <td>33.00</td>\n",
       "      <td>19.00</td>\n",
       "      <td>16.00</td>\n",
       "    </tr>\n",
       "    <tr>\n",
       "      <th>60939</th>\n",
       "      <td>181</td>\n",
       "      <td>Zimbabwe</td>\n",
       "      <td>2899</td>\n",
       "      <td>Miscellaneous</td>\n",
       "      <td>645</td>\n",
       "      <td>Food supply quantity (kg/capita/yr)</td>\n",
       "      <td>kg</td>\n",
       "      <td>3.06</td>\n",
       "      <td>3.33</td>\n",
       "      <td>2.35</td>\n",
       "      <td>1.33</td>\n",
       "      <td>1.08</td>\n",
       "    </tr>\n",
       "    <tr>\n",
       "      <th>60940</th>\n",
       "      <td>181</td>\n",
       "      <td>Zimbabwe</td>\n",
       "      <td>2899</td>\n",
       "      <td>Miscellaneous</td>\n",
       "      <td>664</td>\n",
       "      <td>Food supply (kcal/capita/day)</td>\n",
       "      <td>kcal/capita/day</td>\n",
       "      <td>3.00</td>\n",
       "      <td>4.00</td>\n",
       "      <td>3.00</td>\n",
       "      <td>1.00</td>\n",
       "      <td>1.00</td>\n",
       "    </tr>\n",
       "    <tr>\n",
       "      <th>60941</th>\n",
       "      <td>181</td>\n",
       "      <td>Zimbabwe</td>\n",
       "      <td>2899</td>\n",
       "      <td>Miscellaneous</td>\n",
       "      <td>674</td>\n",
       "      <td>Protein supply quantity (g/capita/day)</td>\n",
       "      <td>g/capita/day</td>\n",
       "      <td>0.10</td>\n",
       "      <td>0.11</td>\n",
       "      <td>0.08</td>\n",
       "      <td>0.04</td>\n",
       "      <td>0.04</td>\n",
       "    </tr>\n",
       "    <tr>\n",
       "      <th>60942</th>\n",
       "      <td>181</td>\n",
       "      <td>Zimbabwe</td>\n",
       "      <td>2899</td>\n",
       "      <td>Miscellaneous</td>\n",
       "      <td>684</td>\n",
       "      <td>Fat supply quantity (g/capita/day)</td>\n",
       "      <td>g/capita/day</td>\n",
       "      <td>0.04</td>\n",
       "      <td>0.05</td>\n",
       "      <td>0.03</td>\n",
       "      <td>0.02</td>\n",
       "      <td>0.01</td>\n",
       "    </tr>\n",
       "  </tbody>\n",
       "</table>\n",
       "<p>60943 rows × 12 columns</p>\n",
       "</div>"
      ],
      "text/plain": [
       "       Area Code      Area  Item Code           Item  Element Code  \\\n",
       "0              4   Algeria       2501     Population           511   \n",
       "1              4   Algeria       2501     Population          5301   \n",
       "2              4   Algeria       2901    Grand Total           664   \n",
       "3              4   Algeria       2901    Grand Total           674   \n",
       "4              4   Algeria       2901    Grand Total           684   \n",
       "...          ...       ...        ...            ...           ...   \n",
       "60938        181  Zimbabwe       2899  Miscellaneous          5142   \n",
       "60939        181  Zimbabwe       2899  Miscellaneous           645   \n",
       "60940        181  Zimbabwe       2899  Miscellaneous           664   \n",
       "60941        181  Zimbabwe       2899  Miscellaneous           674   \n",
       "60942        181  Zimbabwe       2899  Miscellaneous           684   \n",
       "\n",
       "                                      Element             Unit     Y2014  \\\n",
       "0               Total Population - Both sexes     1000 persons  38924.00   \n",
       "1                    Domestic supply quantity      1000 tonnes      0.00   \n",
       "2               Food supply (kcal/capita/day)  kcal/capita/day   3377.00   \n",
       "3      Protein supply quantity (g/capita/day)     g/capita/day     94.90   \n",
       "4          Fat supply quantity (g/capita/day)     g/capita/day     80.06   \n",
       "...                                       ...              ...       ...   \n",
       "60938                                    Food      1000 tonnes     42.00   \n",
       "60939     Food supply quantity (kg/capita/yr)               kg      3.06   \n",
       "60940           Food supply (kcal/capita/day)  kcal/capita/day      3.00   \n",
       "60941  Protein supply quantity (g/capita/day)     g/capita/day      0.10   \n",
       "60942      Fat supply quantity (g/capita/day)     g/capita/day      0.04   \n",
       "\n",
       "          Y2015     Y2016     Y2017     Y2018  \n",
       "0      39728.00  40551.00  41389.00  42228.00  \n",
       "1          0.00      0.00      0.00      0.00  \n",
       "2       3379.00   3372.00   3341.00   3322.00  \n",
       "3         94.35     94.72     92.82     91.83  \n",
       "4         79.36     77.40     80.19     77.28  \n",
       "...         ...       ...       ...       ...  \n",
       "60938     46.00     33.00     19.00     16.00  \n",
       "60939      3.33      2.35      1.33      1.08  \n",
       "60940      4.00      3.00      1.00      1.00  \n",
       "60941      0.11      0.08      0.04      0.04  \n",
       "60942      0.05      0.03      0.02      0.01  \n",
       "\n",
       "[60943 rows x 12 columns]"
      ]
     },
     "execution_count": 4,
     "metadata": {},
     "output_type": "execute_result"
    }
   ],
   "source": [
    "df"
   ]
  },
  {
   "cell_type": "markdown",
   "id": "7498af72",
   "metadata": {},
   "source": [
    "### Highest sum of stock variation"
   ]
  },
  {
   "cell_type": "code",
   "execution_count": 7,
   "id": "73783cf8",
   "metadata": {},
   "outputs": [
    {
     "data": {
      "text/plain": [
       "Y2014    58749.83\n",
       "Y2015    34910.99\n",
       "Y2016    33140.12\n",
       "Y2017    54316.91\n",
       "Y2018    20577.91\n",
       "Name: Stock Variation, dtype: float64"
      ]
     },
     "execution_count": 7,
     "metadata": {},
     "output_type": "execute_result"
    }
   ],
   "source": [
    "element_sum = df.groupby('Element')[['Y2014', 'Y2015', 'Y2016', 'Y2017', 'Y2018']].sum()\n",
    "element_sum.loc['Stock Variation']"
   ]
  },
  {
   "cell_type": "markdown",
   "id": "77e2b957",
   "metadata": {},
   "source": [
    "### Number of rows and columns"
   ]
  },
  {
   "cell_type": "code",
   "execution_count": 15,
   "id": "7eb98e8a",
   "metadata": {},
   "outputs": [
    {
     "name": "stdout",
     "output_type": "stream",
     "text": [
      "The shape of the dataset is (60943, 12).\n"
     ]
    }
   ],
   "source": [
    "print(f\"The shape of the dataset is {df.shape}.\")"
   ]
  },
  {
   "cell_type": "markdown",
   "id": "18f85666",
   "metadata": {},
   "source": [
    "### Number of unique countries"
   ]
  },
  {
   "cell_type": "code",
   "execution_count": 16,
   "id": "4bcd34c0",
   "metadata": {},
   "outputs": [
    {
     "name": "stdout",
     "output_type": "stream",
     "text": [
      "There are 49 unique countries in the dataset.\n"
     ]
    }
   ],
   "source": [
    "print(f\"There are {df['Area'].nunique()} unique countries in the dataset.\")"
   ]
  },
  {
   "cell_type": "markdown",
   "id": "ebe93347",
   "metadata": {},
   "source": [
    "### Create a dataframe"
   ]
  },
  {
   "cell_type": "code",
   "execution_count": 18,
   "id": "79e657e0",
   "metadata": {},
   "outputs": [],
   "source": [
    "# List of dataframe items\n",
    "lst = [[35, 'Portugal', 94], [33, 'Argentina', 93], [30 , 'Brazil', 92]]\n",
    "col = ['Age', 'Nationality', 'Overall']"
   ]
  },
  {
   "cell_type": "code",
   "execution_count": 29,
   "id": "49b94627",
   "metadata": {},
   "outputs": [],
   "source": [
    "# Create dataframe\n",
    "new_df = pd.DataFrame(lst, columns=col, index=[1,2,3]) # index could also be [i for i in range(1,4)]"
   ]
  },
  {
   "cell_type": "code",
   "execution_count": 30,
   "id": "3f85f98f",
   "metadata": {},
   "outputs": [
    {
     "data": {
      "text/html": [
       "<div>\n",
       "<style scoped>\n",
       "    .dataframe tbody tr th:only-of-type {\n",
       "        vertical-align: middle;\n",
       "    }\n",
       "\n",
       "    .dataframe tbody tr th {\n",
       "        vertical-align: top;\n",
       "    }\n",
       "\n",
       "    .dataframe thead th {\n",
       "        text-align: right;\n",
       "    }\n",
       "</style>\n",
       "<table border=\"1\" class=\"dataframe\">\n",
       "  <thead>\n",
       "    <tr style=\"text-align: right;\">\n",
       "      <th></th>\n",
       "      <th>Age</th>\n",
       "      <th>Nationality</th>\n",
       "      <th>Overall</th>\n",
       "    </tr>\n",
       "  </thead>\n",
       "  <tbody>\n",
       "    <tr>\n",
       "      <th>1</th>\n",
       "      <td>35</td>\n",
       "      <td>Portugal</td>\n",
       "      <td>94</td>\n",
       "    </tr>\n",
       "    <tr>\n",
       "      <th>2</th>\n",
       "      <td>33</td>\n",
       "      <td>Argentina</td>\n",
       "      <td>93</td>\n",
       "    </tr>\n",
       "    <tr>\n",
       "      <th>3</th>\n",
       "      <td>30</td>\n",
       "      <td>Brazil</td>\n",
       "      <td>92</td>\n",
       "    </tr>\n",
       "  </tbody>\n",
       "</table>\n",
       "</div>"
      ],
      "text/plain": [
       "   Age Nationality  Overall\n",
       "1   35    Portugal       94\n",
       "2   33   Argentina       93\n",
       "3   30      Brazil       92"
      ]
     },
     "execution_count": 30,
     "metadata": {},
     "output_type": "execute_result"
    }
   ],
   "source": [
    "new_df"
   ]
  },
  {
   "cell_type": "markdown",
   "id": "61b45116",
   "metadata": {},
   "source": [
    "### Number of Processing in 2017"
   ]
  },
  {
   "cell_type": "code",
   "execution_count": 112,
   "id": "2874e3b2",
   "metadata": {},
   "outputs": [],
   "source": [
    "ele_sum = df.groupby('Element')['Y2017'].sum()"
   ]
  },
  {
   "cell_type": "code",
   "execution_count": 113,
   "id": "a23525e7",
   "metadata": {},
   "outputs": [
    {
     "name": "stdout",
     "output_type": "stream",
     "text": [
      "The total sum of processing in 2017 is 292836.0.\n"
     ]
    }
   ],
   "source": [
    "print(f\"The total sum of processing in 2017 is {ele_sum.loc['Processing']}.\")"
   ]
  },
  {
   "cell_type": "markdown",
   "id": "f9ab46c9",
   "metadata": {},
   "source": [
    "### Mean and std for 2017"
   ]
  },
  {
   "cell_type": "code",
   "execution_count": 36,
   "id": "4ac3ab1c",
   "metadata": {},
   "outputs": [
    {
     "data": {
      "text/plain": [
       "count     59437.00\n",
       "mean        140.92\n",
       "std        1671.86\n",
       "min       -1582.00\n",
       "25%           0.00\n",
       "50%           0.10\n",
       "75%           9.00\n",
       "max      190873.00\n",
       "Name: Y2017, dtype: float64"
      ]
     },
     "execution_count": 36,
     "metadata": {},
     "output_type": "execute_result"
    }
   ],
   "source": [
    "np.round(df.describe()['Y2017'], 2)"
   ]
  },
  {
   "cell_type": "markdown",
   "id": "8c063fea",
   "metadata": {},
   "source": [
    "### Array indexing"
   ]
  },
  {
   "cell_type": "code",
   "execution_count": 40,
   "id": "5184d777",
   "metadata": {},
   "outputs": [],
   "source": [
    "arr = [[94,89,63], [93,92,48], [92,94,56]]"
   ]
  },
  {
   "cell_type": "code",
   "execution_count": 119,
   "id": "df167c36",
   "metadata": {},
   "outputs": [
    {
     "ename": "TypeError",
     "evalue": "list indices must be integers or slices, not tuple",
     "output_type": "error",
     "traceback": [
      "\u001b[1;31m---------------------------------------------------------------------------\u001b[0m",
      "\u001b[1;31mTypeError\u001b[0m                                 Traceback (most recent call last)",
      "Cell \u001b[1;32mIn[119], line 1\u001b[0m\n\u001b[1;32m----> 1\u001b[0m \u001b[43marr\u001b[49m\u001b[43m[\u001b[49m\u001b[43m:\u001b[49m\u001b[38;5;241;43m2\u001b[39;49m\u001b[43m,\u001b[49m\u001b[43m \u001b[49m\u001b[38;5;241;43m1\u001b[39;49m\u001b[43m]\u001b[49m\n",
      "\u001b[1;31mTypeError\u001b[0m: list indices must be integers or slices, not tuple"
     ]
    }
   ],
   "source": [
    "arr[:2, 1]"
   ]
  },
  {
   "cell_type": "markdown",
   "id": "ac3d0ac2",
   "metadata": {},
   "source": [
    "### Tuple manipulation"
   ]
  },
  {
   "cell_type": "code",
   "execution_count": 47,
   "id": "de622811",
   "metadata": {},
   "outputs": [],
   "source": [
    "my_tuppy = (1,2,5,8)"
   ]
  },
  {
   "cell_type": "code",
   "execution_count": 48,
   "id": "9d7da6fc",
   "metadata": {},
   "outputs": [
    {
     "ename": "TypeError",
     "evalue": "'tuple' object does not support item assignment",
     "output_type": "error",
     "traceback": [
      "\u001b[1;31m---------------------------------------------------------------------------\u001b[0m",
      "\u001b[1;31mTypeError\u001b[0m                                 Traceback (most recent call last)",
      "Cell \u001b[1;32mIn[48], line 1\u001b[0m\n\u001b[1;32m----> 1\u001b[0m my_tuppy[\u001b[38;5;241m2\u001b[39m] \u001b[38;5;241m=\u001b[39m \u001b[38;5;241m6\u001b[39m\n",
      "\u001b[1;31mTypeError\u001b[0m: 'tuple' object does not support item assignment"
     ]
    }
   ],
   "source": [
    "my_tuppy[2] = 6"
   ]
  },
  {
   "cell_type": "markdown",
   "id": "b0c6ab9d",
   "metadata": {},
   "source": [
    "### Least correlation with Element Code"
   ]
  },
  {
   "cell_type": "code",
   "execution_count": 107,
   "id": "65b2a823",
   "metadata": {},
   "outputs": [],
   "source": [
    "selected_cols = df[['Element Code', 'Y2014', 'Y2015', 'Y2016', 'Y2017', 'Y2018']]"
   ]
  },
  {
   "cell_type": "code",
   "execution_count": 108,
   "id": "18ba83bf",
   "metadata": {},
   "outputs": [],
   "source": [
    "least_corr_year = selected_cols.corr(numeric_only=True)['Element Code'].sort_values(ascending=True).index[0]"
   ]
  },
  {
   "cell_type": "code",
   "execution_count": 111,
   "id": "03bacfe7",
   "metadata": {},
   "outputs": [
    {
     "name": "stdout",
     "output_type": "stream",
     "text": [
      "The year with the least correlation with Element Code is 2016.\n"
     ]
    }
   ],
   "source": [
    "print(f\"The year with the least correlation with Element Code is {least_corr_year.split('Y')[1]}.\")"
   ]
  },
  {
   "cell_type": "markdown",
   "id": "28fd4762",
   "metadata": {},
   "source": [
    "### Wine produced in 2015 and 2018"
   ]
  },
  {
   "cell_type": "code",
   "execution_count": 58,
   "id": "1ae8c3a3",
   "metadata": {},
   "outputs": [
    {
     "data": {
      "text/plain": [
       "Y2015    4251.81\n",
       "Y2018    4039.32\n",
       "Name: Wine, dtype: float64"
      ]
     },
     "execution_count": 58,
     "metadata": {},
     "output_type": "execute_result"
    }
   ],
   "source": [
    "items = df.groupby('Item')[['Y2015', 'Y2018']].sum()\n",
    "items.loc['Wine']"
   ]
  },
  {
   "cell_type": "markdown",
   "id": "fc1a74bc",
   "metadata": {},
   "source": [
    "### Assign variable"
   ]
  },
  {
   "cell_type": "code",
   "execution_count": 60,
   "id": "a732eaa8",
   "metadata": {},
   "outputs": [],
   "source": [
    "y = [(2, 4), (7, 8), (1, 5, 9)]"
   ]
  },
  {
   "cell_type": "code",
   "execution_count": 68,
   "id": "18e7522a",
   "metadata": {},
   "outputs": [],
   "source": [
    "x = y[1][1] # Or y[1][-1]"
   ]
  },
  {
   "cell_type": "code",
   "execution_count": 69,
   "id": "74eba856",
   "metadata": {},
   "outputs": [
    {
     "data": {
      "text/plain": [
       "8"
      ]
     },
     "execution_count": 69,
     "metadata": {},
     "output_type": "execute_result"
    }
   ],
   "source": [
    "x"
   ]
  },
  {
   "cell_type": "markdown",
   "id": "79bdfe61",
   "metadata": {},
   "source": [
    "### Area in 2017"
   ]
  },
  {
   "cell_type": "code",
   "execution_count": 102,
   "id": "9c8ae6f4",
   "metadata": {},
   "outputs": [],
   "source": [
    "area_2017 = df[['Area', 'Y2017']]"
   ]
  },
  {
   "cell_type": "code",
   "execution_count": 103,
   "id": "36ae20c2",
   "metadata": {},
   "outputs": [],
   "source": [
    "area_1st = area_2017.groupby('Area')['Y2017'].sum().sort_values(ascending=False).index[0]"
   ]
  },
  {
   "cell_type": "code",
   "execution_count": 104,
   "id": "76d2015a",
   "metadata": {},
   "outputs": [
    {
     "name": "stdout",
     "output_type": "stream",
     "text": [
      "The area with the highest sum in 2017 was Nigeria.\n"
     ]
    }
   ],
   "source": [
    "print(f\"The area with the highest sum in 2017 was {area_1st}.\")"
   ]
  },
  {
   "cell_type": "markdown",
   "id": "ad9cb1a4",
   "metadata": {},
   "source": [
    "### Missing data in 2014"
   ]
  },
  {
   "cell_type": "code",
   "execution_count": 93,
   "id": "d5ebc444",
   "metadata": {},
   "outputs": [
    {
     "name": "stdout",
     "output_type": "stream",
     "text": [
      "The number of missing data in 2014 was 1589.\n"
     ]
    }
   ],
   "source": [
    "print(f\"The number of missing data in 2014 was {df['Y2014'].isna().sum()}.\")"
   ]
  },
  {
   "cell_type": "code",
   "execution_count": 95,
   "id": "aaf36629",
   "metadata": {},
   "outputs": [],
   "source": [
    "percent_missing = df['Y2014'].value_counts(dropna=False, normalize=True).values[2]"
   ]
  },
  {
   "cell_type": "code",
   "execution_count": 96,
   "id": "d629c010",
   "metadata": {},
   "outputs": [
    {
     "name": "stdout",
     "output_type": "stream",
     "text": [
      "The percentage missing data in 2014 was 2.607.\n"
     ]
    }
   ],
   "source": [
    "print(f\"The percentage missing data in 2014 was {np.round((percent_missing * 100),3)}.\")"
   ]
  },
  {
   "cell_type": "markdown",
   "id": "6fc02721",
   "metadata": {},
   "source": [
    "### Protein supply in Madagascar in 2015"
   ]
  },
  {
   "cell_type": "code",
   "execution_count": 97,
   "id": "26055e1f",
   "metadata": {},
   "outputs": [],
   "source": [
    "protein_supply = df[(df['Element'] == 'Protein supply quantity (g/capita/day)') & (df['Area'] == 'Madagascar')]['Y2015'].sum()"
   ]
  },
  {
   "cell_type": "code",
   "execution_count": 98,
   "id": "12cc47b3",
   "metadata": {},
   "outputs": [
    {
     "name": "stdout",
     "output_type": "stream",
     "text": [
      "The protein supply in Madagascar in 2015 was 173.05.\n"
     ]
    }
   ],
   "source": [
    "print(f\"The protein supply in Madagascar in 2015 was {np.round(protein_supply, 2)}.\")"
   ]
  },
  {
   "cell_type": "markdown",
   "id": "3ad1c350",
   "metadata": {},
   "source": [
    "### Area with the 7th lowest sum in 2017"
   ]
  },
  {
   "cell_type": "code",
   "execution_count": 82,
   "id": "3d5b83b7",
   "metadata": {},
   "outputs": [],
   "source": [
    "area_2017 = df[['Area', 'Y2017']]"
   ]
  },
  {
   "cell_type": "code",
   "execution_count": 105,
   "id": "681e7e31",
   "metadata": {},
   "outputs": [],
   "source": [
    "area_7th = area_2017.groupby('Area')['Y2017'].sum().sort_values(ascending=True).index[6]"
   ]
  },
  {
   "cell_type": "code",
   "execution_count": 106,
   "id": "522239a2",
   "metadata": {},
   "outputs": [
    {
     "name": "stdout",
     "output_type": "stream",
     "text": [
      "The area with the 7th lowest sum in 2017 was Guinea-Bissau.\n"
     ]
    }
   ],
   "source": [
    "print(f\"The area with the 7th lowest sum in 2017 was {area_7th}.\")"
   ]
  },
  {
   "cell_type": "markdown",
   "id": "0067d5b3",
   "metadata": {},
   "source": [
    "### Indexing"
   ]
  },
  {
   "cell_type": "code",
   "execution_count": 86,
   "id": "066c622c",
   "metadata": {},
   "outputs": [],
   "source": [
    "S = [['him', 'sell'], [90, 28, 43]]"
   ]
  },
  {
   "cell_type": "code",
   "execution_count": 87,
   "id": "d69925fa",
   "metadata": {},
   "outputs": [
    {
     "data": {
      "text/plain": [
       "'e'"
      ]
     },
     "execution_count": 87,
     "metadata": {},
     "output_type": "execute_result"
    }
   ],
   "source": [
    "S[0][1][1]"
   ]
  }
 ],
 "metadata": {
  "kernelspec": {
   "display_name": "Python 3 (ipykernel)",
   "language": "python",
   "name": "python3"
  },
  "language_info": {
   "codemirror_mode": {
    "name": "ipython",
    "version": 3
   },
   "file_extension": ".py",
   "mimetype": "text/x-python",
   "name": "python",
   "nbconvert_exporter": "python",
   "pygments_lexer": "ipython3",
   "version": "3.9.18"
  }
 },
 "nbformat": 4,
 "nbformat_minor": 5
}
